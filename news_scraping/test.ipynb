{
 "cells": [
  {
   "cell_type": "markdown",
   "metadata": {},
   "source": [
    "- 랭킹 페이지에서 각 뉴스 페이지 하이퍼링크 수집\n",
    "- 각 페이지에서 기자 이름, 평가 가져오기\n",
    "\n",
    "! 같은 기사를 방지하기 위해 ID를 부여하거나 필터링하는 기능이 있어야할듯\n",
    "\n",
    "! 기자가 여러명인 기사 존재\n",
    "\n",
    "Q. DB 구축해야 하나? 모은 정보를 어떻게 저장할 것인지 의논 필요"
   ]
  },
  {
   "cell_type": "code",
   "execution_count": 2,
   "metadata": {},
   "outputs": [
    {
     "name": "stdout",
     "output_type": "stream",
     "text": [
      "Requirement already satisfied: selenium in c:\\users\\home\\appdata\\roaming\\python\\python311\\site-packages (4.25.0)\n",
      "Requirement already satisfied: urllib3<3,>=1.26 in c:\\users\\home\\.conda\\envs\\pdf\\lib\\site-packages (from urllib3[socks]<3,>=1.26->selenium) (2.2.2)\n",
      "Requirement already satisfied: trio~=0.17 in c:\\users\\home\\appdata\\roaming\\python\\python311\\site-packages (from selenium) (0.26.2)\n",
      "Requirement already satisfied: trio-websocket~=0.9 in c:\\users\\home\\appdata\\roaming\\python\\python311\\site-packages (from selenium) (0.11.1)\n",
      "Requirement already satisfied: certifi>=2021.10.8 in c:\\users\\home\\.conda\\envs\\pdf\\lib\\site-packages (from selenium) (2024.8.30)\n",
      "Requirement already satisfied: typing_extensions~=4.9 in c:\\users\\home\\.conda\\envs\\pdf\\lib\\site-packages (from selenium) (4.11.0)\n",
      "Requirement already satisfied: websocket-client~=1.8 in c:\\users\\home\\appdata\\roaming\\python\\python311\\site-packages (from selenium) (1.8.0)\n",
      "Requirement already satisfied: attrs>=23.2.0 in c:\\users\\home\\appdata\\roaming\\python\\python311\\site-packages (from trio~=0.17->selenium) (24.2.0)\n",
      "Requirement already satisfied: sortedcontainers in c:\\users\\home\\.conda\\envs\\pdf\\lib\\site-packages (from trio~=0.17->selenium) (2.4.0)\n",
      "Requirement already satisfied: idna in c:\\users\\home\\.conda\\envs\\pdf\\lib\\site-packages (from trio~=0.17->selenium) (3.7)\n",
      "Requirement already satisfied: outcome in c:\\users\\home\\appdata\\roaming\\python\\python311\\site-packages (from trio~=0.17->selenium) (1.3.0.post0)\n",
      "Requirement already satisfied: sniffio>=1.3.0 in c:\\users\\home\\.conda\\envs\\pdf\\lib\\site-packages (from trio~=0.17->selenium) (1.3.0)\n",
      "Requirement already satisfied: cffi>=1.14 in c:\\users\\home\\.conda\\envs\\pdf\\lib\\site-packages (from trio~=0.17->selenium) (1.17.1)\n",
      "Requirement already satisfied: wsproto>=0.14 in c:\\users\\home\\appdata\\roaming\\python\\python311\\site-packages (from trio-websocket~=0.9->selenium) (1.2.0)\n",
      "Requirement already satisfied: pysocks!=1.5.7,<2.0,>=1.5.6 in c:\\users\\home\\.conda\\envs\\pdf\\lib\\site-packages (from urllib3[socks]<3,>=1.26->selenium) (1.7.1)\n",
      "Requirement already satisfied: pycparser in c:\\users\\home\\.conda\\envs\\pdf\\lib\\site-packages (from cffi>=1.14->trio~=0.17->selenium) (2.21)\n",
      "Requirement already satisfied: h11<1,>=0.9.0 in c:\\users\\home\\appdata\\roaming\\python\\python311\\site-packages (from wsproto>=0.14->trio-websocket~=0.9->selenium) (0.14.0)\n",
      "Requirement already satisfied: webdriver-manager in c:\\users\\home\\appdata\\roaming\\python\\python311\\site-packages (4.0.2)\n",
      "Collecting requests (from webdriver-manager)\n",
      "  Downloading requests-2.32.3-py3-none-any.whl.metadata (4.6 kB)\n",
      "Collecting python-dotenv (from webdriver-manager)\n",
      "  Downloading python_dotenv-1.0.1-py3-none-any.whl.metadata (23 kB)\n",
      "Requirement already satisfied: packaging in c:\\users\\home\\.conda\\envs\\pdf\\lib\\site-packages (from webdriver-manager) (24.1)\n",
      "Collecting charset-normalizer<4,>=2 (from requests->webdriver-manager)\n",
      "  Downloading charset_normalizer-3.3.2-cp311-cp311-win_amd64.whl.metadata (34 kB)\n",
      "Requirement already satisfied: idna<4,>=2.5 in c:\\users\\home\\.conda\\envs\\pdf\\lib\\site-packages (from requests->webdriver-manager) (3.7)\n",
      "Requirement already satisfied: urllib3<3,>=1.21.1 in c:\\users\\home\\.conda\\envs\\pdf\\lib\\site-packages (from requests->webdriver-manager) (2.2.2)\n",
      "Requirement already satisfied: certifi>=2017.4.17 in c:\\users\\home\\.conda\\envs\\pdf\\lib\\site-packages (from requests->webdriver-manager) (2024.8.30)\n",
      "Downloading python_dotenv-1.0.1-py3-none-any.whl (19 kB)\n",
      "Downloading requests-2.32.3-py3-none-any.whl (64 kB)\n",
      "Downloading charset_normalizer-3.3.2-cp311-cp311-win_amd64.whl (99 kB)\n",
      "Installing collected packages: python-dotenv, charset-normalizer, requests\n",
      "Successfully installed charset-normalizer-3.3.2 python-dotenv-1.0.1 requests-2.32.3\n"
     ]
    }
   ],
   "source": [
    "# 필요 패키지 설치\n",
    "!pip install selenium\n",
    "!pip install webdriver-manager"
   ]
  },
  {
   "cell_type": "code",
   "execution_count": 3,
   "metadata": {},
   "outputs": [
    {
     "data": {
      "text/plain": [
       "<selenium.webdriver.remote.webelement.WebElement (session=\"e4c329b7ba4fd595c54f0f5c2a65bcc6\", element=\"f.3B012C4C6FC385B778097750AB97FD37.d.51FFEA342618C90CA7BFA6133DB1A230.e.60\")>"
      ]
     },
     "execution_count": 3,
     "metadata": {},
     "output_type": "execute_result"
    }
   ],
   "source": [
    "# 패키지 import\n",
    "import time\n",
    "import json\n",
    "from selenium import webdriver\n",
    "from selenium.webdriver.common.by import By\n",
    "from selenium.webdriver.chrome.service import Service\n",
    "from selenium.webdriver.chrome.options import Options\n",
    "from webdriver_manager.chrome import ChromeDriverManager\n",
    "from selenium.webdriver.support.ui import WebDriverWait\n",
    "from selenium.webdriver.support import expected_conditions as EC\n",
    "\n",
    "# Chrome option\n",
    "chrome_options = Options()\n",
    "chrome_options.add_argument('--headless')  # 브라우저 창을 띄우지 않으려면 주석 해제\n",
    "\n",
    "# 웹 드라이버 설정\n",
    "driver = webdriver.Chrome(service=Service(ChromeDriverManager().install()), options=chrome_options)\n",
    "\n",
    "# 네이버 뉴스 랭킹 페이지로 이동\n",
    "driver.get('https://news.naver.com/main/ranking/popularDay.naver?mid=etc&sid1=111')\n",
    "\n",
    "# 페이지가 로드될 때까지 대기\n",
    "wait = WebDriverWait(driver, 10)\n",
    "wait.until(EC.presence_of_element_located((By.TAG_NAME, 'body')))\n"
   ]
  },
  {
   "cell_type": "code",
   "execution_count": 4,
   "metadata": {},
   "outputs": [
    {
     "name": "stdout",
     "output_type": "stream",
     "text": [
      "Extend Done\n"
     ]
    }
   ],
   "source": [
    "# 뉴스 더보기 확장\n",
    "while True:\n",
    "    try:\n",
    "        button = driver.find_element(By.XPATH, '//*[@id=\"wrap\"]/div[4]/button')\n",
    "        button.click()\n",
    "    except:\n",
    "        print('Extend Done')\n",
    "        break"
   ]
  },
  {
   "cell_type": "code",
   "execution_count": 5,
   "metadata": {},
   "outputs": [],
   "source": [
    "# 뉴스 랭킹에서 뉴스 링크 및 제목 가져오기\n",
    "news_link_elements = driver.find_elements(By.XPATH, '//div[@id=\"wrap\"]//ul/li/div/a')\n",
    "\n",
    "news_link_list = [] # 이후에 큐로 변환하여 기자의 모든 기사들을 큐에 무한으로 넣어서 증식할 수도 있을 듯\n",
    "\n",
    "for link in news_link_elements:\n",
    "    href = link.get_attribute('href')\n",
    "    news_title = link.text.strip()\n",
    "    \n",
    "    # 뉴스 기사가 아닌 항목 필터링\n",
    "    if news_title == '':\n",
    "        continue\n",
    "    \n",
    "    news_link_list.append({\n",
    "        'title': news_title,\n",
    "        'url': href\n",
    "    })\n"
   ]
  },
  {
   "cell_type": "code",
   "execution_count": 6,
   "metadata": {},
   "outputs": [],
   "source": [
    "def extract_news_details(driver, url):\n",
    "    \"\"\"\n",
    "    주어진 뉴스 URL에서 신문사, 기자, 평가 등의 정보를 추출하여 반환합니다.\n",
    "    \"\"\"\n",
    "    driver.get(url)\n",
    "    \n",
    "    # 페이지가 로드될 때까지 대기\n",
    "    wait = WebDriverWait(driver, 10)\n",
    "    wait.until(EC.presence_of_element_located((By.TAG_NAME, 'body')))\n",
    "    time.sleep(0.5)\n",
    "\n",
    "    newspaper = driver.find_element(By.CSS_SELECTOR, '#ct > div.media_end_head.go_trans > div.media_end_head_top._LAZY_LOADING_WRAP > a > img.media_end_head_top_logo_img.light_type._LAZY_LOADING._LAZY_LOADING_INIT_HIDE').get_attribute('alt')\n",
    "    \n",
    "    # SBS 처리 필요 \"byline_s\" selector 이용하도록 수정, format 변환 필요\n",
    "    try:\n",
    "        editor = driver.find_element(By.CSS_SELECTOR, '#ct > div.media_end_head.go_trans > div.media_end_head_info.nv_notrans > div.media_end_head_journalist > a > em').text\n",
    "    except:\n",
    "        editor = \"N/A\"\n",
    "    try:\n",
    "        likeit_element = driver.find_element(By.CSS_SELECTOR, '#likeItCountViewDiv > ul').text\n",
    "        likeit_text = likeit_element.replace(',','')\n",
    "        likeit_list = likeit_text.split()\n",
    "        \n",
    "        emotion = likeit_list[::2] # 평가\n",
    "        numbers = map(int, likeit_list[1::2]) # 평가\n",
    "\n",
    "        news_eval = dict(zip(emotion, numbers)) # 뉴스 평가\n",
    "    except:\n",
    "        news_eval = \"N/A\"\n",
    "\n",
    "\n",
    "    return {\n",
    "        'newspaper': newspaper,\n",
    "        'editor': editor,\n",
    "        'news_url': url,\n",
    "        'news_eval': news_eval\n",
    "    }"
   ]
  },
  {
   "cell_type": "code",
   "execution_count": 7,
   "metadata": {},
   "outputs": [],
   "source": [
    "# 임시 DB 생성 후 DB에 데이터 넣기\n",
    "db_sample = []\n",
    "for news in news_link_list:\n",
    "    news_detail = extract_news_details(driver, news.get('url'))\n",
    "    db_sample.append(news_detail)"
   ]
  },
  {
   "cell_type": "code",
   "execution_count": 8,
   "metadata": {},
   "outputs": [
    {
     "data": {
      "text/plain": [
       "[{'newspaper': '국민일보',\n",
       "  'editor': '김남중 기자',\n",
       "  'news_url': 'https://n.news.naver.com/article/005/0001726817?ntype=RANKING',\n",
       "  'news_eval': {'쏠쏠정보': 89, '흥미진진': 11, '공감백배': 298, '분석탁월': 3, '후속강추': 20}},\n",
       " {'newspaper': '국민일보',\n",
       "  'editor': '권민지 기자',\n",
       "  'news_url': 'https://n.news.naver.com/article/005/0001726758?ntype=RANKING',\n",
       "  'news_eval': {'쏠쏠정보': 67, '흥미진진': 11, '공감백배': 6, '분석탁월': 6, '후속강추': 106}},\n",
       " {'newspaper': '국민일보',\n",
       "  'editor': '한웅희 기자',\n",
       "  'news_url': 'https://n.news.naver.com/article/005/0001726838?ntype=RANKING',\n",
       "  'news_eval': {'쏠쏠정보': 0, '흥미진진': 0, '공감백배': 1, '분석탁월': 0, '후속강추': 20}},\n",
       " {'newspaper': '국민일보',\n",
       "  'editor': '황인호 기자',\n",
       "  'news_url': 'https://n.news.naver.com/article/005/0001726835?ntype=RANKING',\n",
       "  'news_eval': {'쏠쏠정보': 0, '흥미진진': 3, '공감백배': 1, '분석탁월': 2, '후속강추': 0}},\n",
       " {'newspaper': '국민일보',\n",
       "  'editor': '이다연 기자',\n",
       "  'news_url': 'https://n.news.naver.com/article/005/0001726743?ntype=RANKING',\n",
       "  'news_eval': {'쏠쏠정보': 5, '흥미진진': 3, '공감백배': 30, '분석탁월': 2, '후속강추': 4}}]"
      ]
     },
     "execution_count": 8,
     "metadata": {},
     "output_type": "execute_result"
    }
   ],
   "source": [
    "db_sample[:5]"
   ]
  },
  {
   "cell_type": "code",
   "execution_count": 10,
   "metadata": {},
   "outputs": [
    {
     "name": "stdout",
     "output_type": "stream",
     "text": [
      "데이터가 'db.json' 파일로 성공적으로 저장되었습니다.\n"
     ]
    }
   ],
   "source": [
    "# JSON 파일로 저장\n",
    "with open('db.json', 'w', encoding='utf-8') as f:\n",
    "    json.dump(db_sample, f, ensure_ascii=False, indent=4)\n",
    "\n",
    "print(\"데이터가 'db.json' 파일로 성공적으로 저장되었습니다.\")"
   ]
  },
  {
   "cell_type": "code",
   "execution_count": null,
   "metadata": {},
   "outputs": [],
   "source": []
  }
 ],
 "metadata": {
  "kernelspec": {
   "display_name": "Python 3",
   "language": "python",
   "name": "python3"
  },
  "language_info": {
   "codemirror_mode": {
    "name": "ipython",
    "version": 3
   },
   "file_extension": ".py",
   "mimetype": "text/x-python",
   "name": "python",
   "nbconvert_exporter": "python",
   "pygments_lexer": "ipython3",
   "version": "3.11.9"
  }
 },
 "nbformat": 4,
 "nbformat_minor": 2
}
